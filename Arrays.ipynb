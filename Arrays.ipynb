{
  "nbformat": 4,
  "nbformat_minor": 0,
  "metadata": {
    "colab": {
      "provenance": []
    },
    "kernelspec": {
      "name": "python3",
      "display_name": "Python 3"
    },
    "language_info": {
      "name": "python"
    }
  },
  "cells": [
    {
      "cell_type": "code",
      "execution_count": null,
      "metadata": {
        "id": "w-CA2mcjKfdf"
      },
      "outputs": [],
      "source": [
        "# python array module\n",
        "import array as myarray"
      ]
    },
    {
      "cell_type": "code",
      "source": [
        "#creating an array\n",
        "arr = myarray.array('i' ,[1,2,3,4,5])\n",
        "arr1 = myarray.array('d' ,[1.1,2.2,3.3,4.4,5.5])\n",
        "arr2 = myarray.array('u' ,['a','b','c','d','e'])\n",
        "\n",
        "#typecodes\n",
        "print(arr.typecode)\n",
        "print(arr1.typecode)\n",
        "print(arr2.typecode)\n",
        "\n",
        "print(arr)\n",
        "print(arr1)\n",
        "print(arr2)"
      ],
      "metadata": {
        "colab": {
          "base_uri": "https://localhost:8080/"
        },
        "id": "e1M0NxnbKs6U",
        "outputId": "b05106a4-a38d-43bd-f1b1-c7da573606be"
      },
      "execution_count": null,
      "outputs": [
        {
          "output_type": "stream",
          "name": "stdout",
          "text": [
            "i\n",
            "d\n",
            "u\n",
            "array('i', [1, 2, 3, 4, 5])\n",
            "array('d', [1.1, 2.2, 3.3, 4.4, 5.5])\n",
            "array('u', 'abcde')\n"
          ]
        }
      ]
    },
    {
      "cell_type": "code",
      "source": [
        "#length of array\n",
        "print(len(arr))\n",
        "print(len(arr1))\n",
        "print(len(arr2))"
      ],
      "metadata": {
        "colab": {
          "base_uri": "https://localhost:8080/"
        },
        "id": "62AGdF7mMEII",
        "outputId": "b5e5d101-ddfc-4bbc-f8e8-51055910b673"
      },
      "execution_count": null,
      "outputs": [
        {
          "output_type": "stream",
          "name": "stdout",
          "text": [
            "5\n",
            "5\n",
            "5\n"
          ]
        }
      ]
    },
    {
      "cell_type": "code",
      "source": [
        "for i in range(0,len(arr)):\n",
        "  print(arr[i],end=\" \")\n",
        "print(\"\\n\")\n",
        "for i in range(0,len(arr1)):\n",
        "  print(arr1[i],end=\" \")\n",
        "print(\"\\n\")\n",
        "for i in range(0,len(arr2)):\n",
        "  print(arr2[i],end=\" \")"
      ],
      "metadata": {
        "colab": {
          "base_uri": "https://localhost:8080/"
        },
        "id": "RxIufRaDMzZR",
        "outputId": "7a83190a-1390-4588-ad95-430583b7a576"
      },
      "execution_count": null,
      "outputs": [
        {
          "output_type": "stream",
          "name": "stdout",
          "text": [
            "1 2 3 4 5 \n",
            "\n",
            "1.1 2.2 3.3 4.4 5.5 \n",
            "\n",
            "a b c d e "
          ]
        }
      ]
    },
    {
      "cell_type": "code",
      "source": [
        "# For an array of length n , the indexing will start from 0 and end at n-1\n",
        "#to access the element from array  use index\n",
        "a = list(range(1,100))\n",
        "new_array = myarray.array('i',a)\n",
        "\n",
        "#printing the array\n",
        "for i in range(0,len(new_array)):\n",
        "  print(new_array[i],end=\" \")\n",
        "print(\"\\n\")\n",
        "\n",
        "#accessing the element at index \"25\"\n",
        "print(new_array[25])"
      ],
      "metadata": {
        "colab": {
          "base_uri": "https://localhost:8080/"
        },
        "id": "43k9vJDRNo-H",
        "outputId": "8b4a4b58-3c48-4488-b257-8b0c03fa8d38"
      },
      "execution_count": null,
      "outputs": [
        {
          "output_type": "stream",
          "name": "stdout",
          "text": [
            "1 2 3 4 5 6 7 8 9 10 11 12 13 14 15 16 17 18 19 20 21 22 23 24 25 26 27 28 29 30 31 32 33 34 35 36 37 38 39 40 41 42 43 44 45 46 47 48 49 50 51 52 53 54 55 56 57 58 59 60 61 62 63 64 65 66 67 68 69 70 71 72 73 74 75 76 77 78 79 80 81 82 83 84 85 86 87 88 89 90 91 92 93 94 95 96 97 98 99 \n",
            "\n",
            "26\n"
          ]
        }
      ]
    },
    {
      "cell_type": "code",
      "source": [
        "# adding elements in an array - insert , append\n",
        "b= myarray.array('i',[3,4,5,6,7,8,9,10])\n",
        "for i in range(0,len(b)):\n",
        "  print(b[i],end=\" \")\n",
        "print(end=\"\\n\")\n",
        "#insert method\n",
        "b.insert(0,2)\n",
        "b.insert(0,1)\n",
        "for i in range(0,len(b)):\n",
        "  print(b[i],end=\" \")"
      ],
      "metadata": {
        "colab": {
          "base_uri": "https://localhost:8080/"
        },
        "id": "vM4bpM9GPLmE",
        "outputId": "5541f4fd-0734-4ad3-ea5e-fc80019a1716"
      },
      "execution_count": null,
      "outputs": [
        {
          "output_type": "stream",
          "name": "stdout",
          "text": [
            "3 4 5 6 7 8 9 10 \n",
            "1 2 3 4 5 6 7 8 9 10 "
          ]
        }
      ]
    },
    {
      "cell_type": "code",
      "source": [
        "#append method\n",
        "b.append(11)\n",
        "for i in range(0,len(b)):\n",
        "  print(b[i],end=\" \")"
      ],
      "metadata": {
        "colab": {
          "base_uri": "https://localhost:8080/"
        },
        "id": "dYypavEDSL7L",
        "outputId": "9b7c6e14-4198-4dea-f445-f92a97a6a23d"
      },
      "execution_count": null,
      "outputs": [
        {
          "output_type": "stream",
          "name": "stdout",
          "text": [
            "1 2 3 4 5 6 7 8 9 10 11 "
          ]
        }
      ]
    },
    {
      "cell_type": "code",
      "source": [
        "#updating elements in array\n",
        "c =myarray.array('i',[1,2,2,4,5])\n",
        "for i in range(0,len(c)):\n",
        "  print(c[i],end=\" \")\n",
        "print(end=\"\\n\")\n",
        "#updating the element at index 0\n",
        "c[2]=30\n",
        "for i in range(0,len(c)):\n",
        "  print(c[i],end=\" \")\n",
        "#"
      ],
      "metadata": {
        "colab": {
          "base_uri": "https://localhost:8080/"
        },
        "id": "5xAI6gdBTxvG",
        "outputId": "bcdefabe-74ab-41b8-bc25-36e5023efb80"
      },
      "execution_count": null,
      "outputs": [
        {
          "output_type": "stream",
          "name": "stdout",
          "text": [
            "1 2 2 4 5 \n",
            "1 2 30 4 5 "
          ]
        }
      ]
    },
    {
      "cell_type": "code",
      "source": [
        "#deleting elements in an array\n",
        "c.pop(3)  #here 3 is the index not value 3\n",
        "print(end=\"\\n\")\n",
        "for i in range(0,len(c)):\n",
        "  print(c[i],end=\" \")\n",
        "print(end=\"\\n\")"
      ],
      "metadata": {
        "colab": {
          "base_uri": "https://localhost:8080/"
        },
        "id": "oQJQYU1WUmsw",
        "outputId": "0b1835b9-22e5-42d7-999e-349640ff149c"
      },
      "execution_count": null,
      "outputs": [
        {
          "output_type": "stream",
          "name": "stdout",
          "text": [
            "\n",
            "1 2 30 5 \n"
          ]
        }
      ]
    },
    {
      "cell_type": "code",
      "source": [
        "#using the remove() method\n",
        "c.remove(2)   #2 i s not the index here; it is the value 2\n",
        "for i in range(0,len(c)):\n",
        "  print(c[i],end=\" \")"
      ],
      "metadata": {
        "colab": {
          "base_uri": "https://localhost:8080/"
        },
        "id": "9WmRVotVU1rD",
        "outputId": "c76497f0-cc93-4dec-b2d8-276261994c81"
      },
      "execution_count": null,
      "outputs": [
        {
          "output_type": "stream",
          "name": "stdout",
          "text": [
            "1 30 5 "
          ]
        }
      ]
    },
    {
      "cell_type": "code",
      "source": [
        "#slicing in an array\n",
        "d = list(range(0,100,5))\n",
        "arr3 = myarray.array('i',d)\n",
        "\n",
        "#slicing operations\n",
        "e = arr3[10:20]\n",
        "for i in range(0,len(e)):\n",
        "  print(e[i],end=\" \")\n",
        "print(\"\\n\")\n",
        "\n",
        "#negative indexing\n",
        "f = arr3[9:-10]\n",
        "for i in range(0,len(f)):\n",
        "  print(f[i],end=\" \")\n",
        "print(\"\\n\")\n"
      ],
      "metadata": {
        "colab": {
          "base_uri": "https://localhost:8080/"
        },
        "id": "ODwjsSesVy4z",
        "outputId": "c04e7c43-b336-40e2-af42-0c9c1c3c16c8"
      },
      "execution_count": null,
      "outputs": [
        {
          "output_type": "stream",
          "name": "stdout",
          "text": [
            "50 55 60 65 70 75 80 85 90 95 \n",
            "\n",
            "45 \n",
            "\n"
          ]
        }
      ]
    },
    {
      "cell_type": "code",
      "source": [
        "for i in range(0,len( arr3)): #array which is used in the above code\n",
        "  print(i,arr3[i])"
      ],
      "metadata": {
        "colab": {
          "base_uri": "https://localhost:8080/"
        },
        "id": "KieeZMsaXoHy",
        "outputId": "8f433cd7-9243-4cf6-9ea9-62285547528b"
      },
      "execution_count": null,
      "outputs": [
        {
          "output_type": "stream",
          "name": "stdout",
          "text": [
            "0 0\n",
            "1 5\n",
            "2 10\n",
            "3 15\n",
            "4 20\n",
            "5 25\n",
            "6 30\n",
            "7 35\n",
            "8 40\n",
            "9 45\n",
            "10 50\n",
            "11 55\n",
            "12 60\n",
            "13 65\n",
            "14 70\n",
            "15 75\n",
            "16 80\n",
            "17 85\n",
            "18 90\n",
            "19 95\n"
          ]
        }
      ]
    },
    {
      "cell_type": "code",
      "source": [
        "g =arr3[::-1]\n",
        "for i in range(0,len(g)):\n",
        "  print(g[i],end=\" \")"
      ],
      "metadata": {
        "colab": {
          "base_uri": "https://localhost:8080/"
        },
        "id": "Fm5ItX1aZcBn",
        "outputId": "7818d3a8-76b1-4827-8a18-19e8b8595540"
      },
      "execution_count": null,
      "outputs": [
        {
          "output_type": "stream",
          "name": "stdout",
          "text": [
            "95 90 85 80 75 70 65 60 55 50 45 40 35 30 25 20 15 10 5 0 "
          ]
        }
      ]
    },
    {
      "cell_type": "code",
      "source": [
        " #searching operations in an array using index()\n",
        "h = list(range(0,1000000,3))\n",
        "search = myarray.array('i',h)\n",
        "\n",
        " #print 1st 10 elements of the array\n",
        "for i in range(0,len(search[0:10])):\n",
        "  print(search[i],end=\" \")\n",
        "print(\"\\n\")\n",
        "#search the number 10005 in the array\n",
        "index = search.index(10005)\n",
        "res = search[index]\n",
        "print(index,res)"
      ],
      "metadata": {
        "colab": {
          "base_uri": "https://localhost:8080/"
        },
        "id": "YU6ByOqDa2iD",
        "outputId": "8bdff6e3-0e9b-4595-efb3-585d0eb40f3e"
      },
      "execution_count": null,
      "outputs": [
        {
          "output_type": "stream",
          "name": "stdout",
          "text": [
            "0 3 6 9 12 15 18 21 24 27 \n",
            "\n",
            "3335 10005\n"
          ]
        }
      ]
    },
    {
      "cell_type": "code",
      "source": [
        "#sorting operations\n",
        "sort = myarray.array('i',[5,3,4,6,9,7,8])\n",
        "sorted_array = sort.tolist()\n",
        "#ascending order\n",
        "sorted_array.sort()\n",
        "print(sorted_array)\n",
        "#descending order\n",
        "sorted_array.sort(reverse=True)\n",
        "print(sorted_array)\n"
      ],
      "metadata": {
        "colab": {
          "base_uri": "https://localhost:8080/"
        },
        "id": "Ajz2hN8-dbMM",
        "outputId": "0ae30c76-9697-4e8d-9d06-6cd9f807094e"
      },
      "execution_count": null,
      "outputs": [
        {
          "output_type": "stream",
          "name": "stdout",
          "text": [
            "[3, 4, 5, 6, 7, 8, 9]\n",
            "[9, 8, 7, 6, 5, 4, 3]\n"
          ]
        }
      ]
    },
    {
      "cell_type": "code",
      "source": [
        "#numpy arrays\n",
        "import numpy as np\n",
        "arr=np.array([1,2,3,4,5])\n",
        "print(arr)\n",
        "print(\"\\n\")\n",
        "zeros = np.zeros((2,2))\n",
        "ones = np.ones((2,2))\n",
        "const=np.full((2,2),7)\n",
        "iden=np.eye(2)\n",
        "rndom = np.random.random((2,2))\n",
        "print(zeros)\n",
        "print(\"\\n\")\n",
        "print(ones)\n",
        "print(\"\\n\")\n",
        "print(rndom)\n",
        "print(\"\\n\")\n",
        "print(const)\n",
        "print(\"\\n\")\n",
        "print(iden)\n",
        "print(\"\\n\")\n",
        "print(rndom)\n"
      ],
      "metadata": {
        "colab": {
          "base_uri": "https://localhost:8080/"
        },
        "id": "LJ0SzbELeLis",
        "outputId": "627114bb-b356-4bf7-93f0-e46cea17e42e"
      },
      "execution_count": null,
      "outputs": [
        {
          "output_type": "stream",
          "name": "stdout",
          "text": [
            "[1 2 3 4 5]\n",
            "\n",
            "\n",
            "[[0. 0.]\n",
            " [0. 0.]]\n",
            "\n",
            "\n",
            "[[1. 1.]\n",
            " [1. 1.]]\n",
            "\n",
            "\n",
            "[[0.4935371  0.98708051]\n",
            " [0.85883354 0.56779999]]\n",
            "\n",
            "\n",
            "[[7 7]\n",
            " [7 7]]\n",
            "\n",
            "\n",
            "[[1. 0.]\n",
            " [0. 1.]]\n",
            "\n",
            "\n",
            "[[0.4935371  0.98708051]\n",
            " [0.85883354 0.56779999]]\n"
          ]
        }
      ]
    },
    {
      "cell_type": "code",
      "source": [
        "#1d,2d and 3d numpy arrays\n",
        "#od array\n",
        "zerod=np.array(1)\n",
        "print(zerod)\n",
        "print(\"\\n\")\n",
        "\n",
        "oned= np.array([1,1])\n",
        "print(oned)\n",
        "print(\"\\n\")\n",
        "\n",
        "twod = np.array([[1,2,3,4,5] , [1,2,3,4,5]])\n",
        "print(twod)\n",
        "print(\"\\n\")\n",
        "\n",
        "threed = np.array([[[1,2,3],[3,4,5]],[[5,6,7],[7,8,9]]])\n",
        "print(threed)\n",
        "print(\"\\n\")\n",
        "multid = np.array([1,2,3,4,5],ndmin=5)\n",
        "print(multid)\n",
        "\n"
      ],
      "metadata": {
        "colab": {
          "base_uri": "https://localhost:8080/"
        },
        "id": "IQ68Hk4vhKnE",
        "outputId": "baf2af3c-55ff-4d94-a8d2-cf73f14228ff"
      },
      "execution_count": null,
      "outputs": [
        {
          "output_type": "stream",
          "name": "stdout",
          "text": [
            "1\n",
            "\n",
            "\n",
            "[1 1]\n",
            "\n",
            "\n",
            "[[1 2 3 4 5]\n",
            " [1 2 3 4 5]]\n",
            "\n",
            "\n",
            "[[[1 2 3]\n",
            "  [3 4 5]]\n",
            "\n",
            " [[5 6 7]\n",
            "  [7 8 9]]]\n",
            "\n",
            "\n",
            "[[[[[1 2 3 4 5]]]]]\n"
          ]
        }
      ]
    },
    {
      "cell_type": "code",
      "source": [
        "print(oned.ndim)\n",
        "print(twod.ndim)\n",
        "print(threed.ndim)\n",
        "print(multid.ndim)"
      ],
      "metadata": {
        "colab": {
          "base_uri": "https://localhost:8080/"
        },
        "id": "DvFGj65RipK6",
        "outputId": "2042c55f-ed26-4f53-9b26-df5e0696ddbf"
      },
      "execution_count": null,
      "outputs": [
        {
          "output_type": "stream",
          "name": "stdout",
          "text": [
            "1\n",
            "2\n",
            "3\n",
            "5\n"
          ]
        }
      ]
    },
    {
      "cell_type": "code",
      "source": [
        "#CRUD operations on Numpy Arrays\n",
        "#reading from a numpy array\n",
        "sample_array = np.array([1,2,3,4,5,6,7,8,9,10])\n",
        "for i in range(0,len(sample_array)):\n",
        "  print(sample_array[i], end=\" \")\n",
        "print(\"\\n\")\n",
        "#updating elements in a numpy array, we make use of indexing here.\n",
        "sample_array[9] = 100\n",
        "print(sample_array)\n",
        "print(\"\\n\")\n",
        "#deleting elements in a numpy array\n",
        "sample_array = np.delete(sample_array, 9)\n",
        "print(sample_array)"
      ],
      "metadata": {
        "colab": {
          "base_uri": "https://localhost:8080/"
        },
        "id": "bWInTOQgjjgQ",
        "outputId": "b0146a08-528b-44fc-a4d9-4b207ae5d2a8"
      },
      "execution_count": null,
      "outputs": [
        {
          "output_type": "stream",
          "name": "stdout",
          "text": [
            "1 2 3 4 5 6 7 8 9 10 \n",
            "\n",
            "[  1   2   3   4   5   6   7   8   9 100]\n",
            "\n",
            "\n",
            "[1 2 3 4 5 6 7 8 9]\n"
          ]
        }
      ]
    },
    {
      "cell_type": "code",
      "source": [
        "#searching elements in a numpy array\n",
        "y =list(range(0,20000,3))\n",
        "sample_search_array = np.array(y)\n",
        "#searching the element 15000\n",
        "res = np.where(sample_search_array==15000)\n",
        "print(res)\n",
        "#checking if the returning index is true\n",
        "print(sample_search_array[5000])\n"
      ],
      "metadata": {
        "colab": {
          "base_uri": "https://localhost:8080/"
        },
        "id": "oNcP56XFklRB",
        "outputId": "dbb8d51a-ec73-4fa2-e374-06d55f21a289"
      },
      "execution_count": null,
      "outputs": [
        {
          "output_type": "stream",
          "name": "stdout",
          "text": [
            "(array([5000]),)\n",
            "15000\n"
          ]
        }
      ]
    },
    {
      "cell_type": "code",
      "source": [
        " #sorting elements in a numpy array\n",
        " sample_sort_array  = np.array([1,4,9,2,3,8,7,6])\n",
        " #sorting the numpy array using sort()\n",
        " z =np.sort(sample_sort_array)\n",
        " print(z)"
      ],
      "metadata": {
        "colab": {
          "base_uri": "https://localhost:8080/"
        },
        "id": "tfopPoxSlkzb",
        "outputId": "e83b0624-fa88-4209-d174-94a191f3ffa5"
      },
      "execution_count": null,
      "outputs": [
        {
          "output_type": "stream",
          "name": "stdout",
          "text": [
            "[1 2 3 4 6 7 8 9]\n"
          ]
        }
      ]
    },
    {
      "cell_type": "code",
      "source": [],
      "metadata": {
        "id": "Toz3LnqSmNUw"
      },
      "execution_count": null,
      "outputs": []
    }
  ]
}